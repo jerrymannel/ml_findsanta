{
 "cells": [
  {
   "cell_type": "code",
   "execution_count": 3,
   "metadata": {},
   "outputs": [],
   "source": [
    "import os\n",
    "import cv2\n",
    "import numpy as np\n",
    "import pathlib\n",
    "from matplotlib import pyplot as plt\n",
    "\n",
    "import tensorflow as tf\n",
    "\n",
    "from tensorflow import keras\n",
    "from tensorflow.keras import layers\n",
    "from tensorflow.keras.models import Sequential\n",
    "\n",
    "def show(data):\n",
    "\tplt.xticks([])\n",
    "\tplt.yticks([])\n",
    "\tplt.imshow(data)\n",
    "\tplt.show()\n",
    "\n",
    "def printArrayInfo(arr):\n",
    "\tprint(\"---------------------------\")\n",
    "\tprint(\"Size :: \", arr.size)\n",
    "\tprint(\"Shape :: \", arr.shape)\n",
    "\tprint(\"---------------------------\")"
   ]
  },
  {
   "cell_type": "code",
   "execution_count": 6,
   "metadata": {},
   "outputs": [
    {
     "name": "stdout",
     "output_type": "stream",
     "text": [
      "12532\n"
     ]
    }
   ],
   "source": [
    "\n",
    "dataDir = pathlib.Path(\"dataPostProcessed\")\n",
    "imageCount = len(list(dataDir.glob('*/*.jpg')))\n",
    "print(imageCount)\n",
    "\n",
    "batch_size = 64\n",
    "img_height = 184\n",
    "img_width = 187"
   ]
  },
  {
   "attachments": {},
   "cell_type": "markdown",
   "metadata": {},
   "source": [
    "# Dataset"
   ]
  },
  {
   "cell_type": "code",
   "execution_count": 41,
   "metadata": {},
   "outputs": [
    {
     "name": "stdout",
     "output_type": "stream",
     "text": [
      "Found 12532 files belonging to 52 classes.\n",
      "Using 10026 files for training.\n"
     ]
    }
   ],
   "source": [
    "train_ds = tf.keras.utils.image_dataset_from_directory(\n",
    "\tdataDir,\n",
    "\tvalidation_split=0.2,\n",
    "\tsubset=\"training\",\n",
    "\tseed=123,\n",
    "\timage_size=(img_height, img_width),\n",
    "\tbatch_size=batch_size)"
   ]
  },
  {
   "cell_type": "code",
   "execution_count": 42,
   "metadata": {},
   "outputs": [
    {
     "name": "stdout",
     "output_type": "stream",
     "text": [
      "Found 12532 files belonging to 52 classes.\n",
      "Using 2506 files for validation.\n"
     ]
    }
   ],
   "source": [
    "val_ds = tf.keras.utils.image_dataset_from_directory(\n",
    "\tdataDir,\n",
    "\tvalidation_split=0.2,\n",
    "\tsubset=\"validation\",\n",
    "\tseed=123,\n",
    "\timage_size=(img_height, img_width),\n",
    "\tbatch_size=batch_size)"
   ]
  },
  {
   "cell_type": "code",
   "execution_count": 48,
   "metadata": {},
   "outputs": [
    {
     "name": "stdout",
     "output_type": "stream",
     "text": [
      "['A', 'B', 'C', 'D', 'E', 'F', 'G', 'H', 'I', 'J', 'K', 'L', 'M', 'N', 'O', 'P', 'Q', 'R', 'S', 'T', 'U', 'V', 'W', 'X', 'Y', 'Z', 'a', 'b', 'c', 'd', 'e', 'f', 'g', 'h', 'i', 'j', 'k', 'l', 'm', 'n', 'o', 'p', 'q', 'r', 's', 't', 'u', 'v', 'w', 'x', 'y', 'z']\n"
     ]
    }
   ],
   "source": [
    "class_names = train_ds.class_names\n",
    "for id, c in enumerate(class_names):\n",
    "\tclass_names[id] = c.split(\"_\")[0]\n",
    "print(class_names)"
   ]
  },
  {
   "attachments": {},
   "cell_type": "markdown",
   "metadata": {},
   "source": [
    "# Visualize"
   ]
  },
  {
   "cell_type": "code",
   "execution_count": null,
   "metadata": {},
   "outputs": [],
   "source": [
    "plt.figure(figsize=(10, 10))\n",
    "for images, labels in train_ds.take(1):\n",
    "\tfor i in range(9):\n",
    "\t\tax = plt.subplot(3, 3, i + 1)\n",
    "\t\tplt.imshow(images[i].numpy().astype(\"uint8\"))\n",
    "\t\tplt.title(class_names[labels[i]])\n",
    "\t\tplt.axis(\"off\")"
   ]
  },
  {
   "attachments": {},
   "cell_type": "markdown",
   "metadata": {},
   "source": [
    "# Performance"
   ]
  },
  {
   "cell_type": "code",
   "execution_count": 11,
   "metadata": {},
   "outputs": [],
   "source": [
    "AUTOTUNE = tf.data.AUTOTUNE\n",
    "\n",
    "train_ds = train_ds.cache().shuffle(1000).prefetch(buffer_size=AUTOTUNE)\n",
    "val_ds = val_ds.cache().prefetch(buffer_size=AUTOTUNE)"
   ]
  },
  {
   "cell_type": "code",
   "execution_count": 13,
   "metadata": {},
   "outputs": [
    {
     "name": "stdout",
     "output_type": "stream",
     "text": [
      "WARNING:tensorflow:From /usr/local/lib/python3.10/site-packages/tensorflow/python/autograph/pyct/static_analysis/liveness.py:83: Analyzer.lamba_check (from tensorflow.python.autograph.pyct.static_analysis.liveness) is deprecated and will be removed after 2023-09-23.\n",
      "Instructions for updating:\n",
      "Lambda fuctions will be no more assumed to be used in the statement where they are used, or at least in the same block. https://github.com/tensorflow/tensorflow/issues/56089\n",
      "0.0 1.0\n"
     ]
    }
   ],
   "source": [
    "normalization_layer = layers.Rescaling(1./255)\n",
    "normalized_ds = train_ds.map(lambda x, y: (normalization_layer(x), y))\n",
    "image_batch, labels_batch = next(iter(normalized_ds))\n",
    "first_image = image_batch[0]\n",
    "# Notice the pixel values are now in `[0,1]`.\n",
    "print(np.min(first_image), np.max(first_image))"
   ]
  },
  {
   "attachments": {},
   "cell_type": "markdown",
   "metadata": {},
   "source": [
    "# Model"
   ]
  },
  {
   "cell_type": "code",
   "execution_count": 14,
   "metadata": {},
   "outputs": [],
   "source": [
    "num_classes = len(class_names)\n",
    "\n",
    "model = Sequential([\n",
    "\tlayers.Rescaling(1./255, input_shape=(img_height, img_width, 3)),\n",
    "\tlayers.Conv2D(16, 3, padding='same', activation='relu'),\n",
    "\tlayers.MaxPooling2D(),\n",
    "\tlayers.Conv2D(32, 3, padding='same', activation='relu'),\n",
    "\tlayers.MaxPooling2D(),\n",
    "\tlayers.Conv2D(64, 3, padding='same', activation='relu'),\n",
    "\tlayers.MaxPooling2D(),\n",
    "\tlayers.Flatten(),\n",
    "\tlayers.Dense(128, activation='relu'),\n",
    "\tlayers.Dense(num_classes)\n",
    "])"
   ]
  },
  {
   "attachments": {},
   "cell_type": "markdown",
   "metadata": {},
   "source": [
    "# Compile"
   ]
  },
  {
   "cell_type": "code",
   "execution_count": 16,
   "metadata": {},
   "outputs": [
    {
     "name": "stdout",
     "output_type": "stream",
     "text": [
      "Model: \"sequential\"\n",
      "_________________________________________________________________\n",
      " Layer (type)                Output Shape              Param #   \n",
      "=================================================================\n",
      " rescaling_2 (Rescaling)     (None, 184, 187, 3)       0         \n",
      "                                                                 \n",
      " conv2d (Conv2D)             (None, 184, 187, 16)      448       \n",
      "                                                                 \n",
      " max_pooling2d (MaxPooling2D  (None, 92, 93, 16)       0         \n",
      " )                                                               \n",
      "                                                                 \n",
      " conv2d_1 (Conv2D)           (None, 92, 93, 32)        4640      \n",
      "                                                                 \n",
      " max_pooling2d_1 (MaxPooling  (None, 46, 46, 32)       0         \n",
      " 2D)                                                             \n",
      "                                                                 \n",
      " conv2d_2 (Conv2D)           (None, 46, 46, 64)        18496     \n",
      "                                                                 \n",
      " max_pooling2d_2 (MaxPooling  (None, 23, 23, 64)       0         \n",
      " 2D)                                                             \n",
      "                                                                 \n",
      " flatten (Flatten)           (None, 33856)             0         \n",
      "                                                                 \n",
      " dense (Dense)               (None, 128)               4333696   \n",
      "                                                                 \n",
      " dense_1 (Dense)             (None, 52)                6708      \n",
      "                                                                 \n",
      "=================================================================\n",
      "Total params: 4,363,988\n",
      "Trainable params: 4,363,988\n",
      "Non-trainable params: 0\n",
      "_________________________________________________________________\n"
     ]
    }
   ],
   "source": [
    "model.compile(optimizer='adam', loss=tf.keras.losses.SparseCategoricalCrossentropy(from_logits=True), metrics=['accuracy'])\n",
    "model.summary()"
   ]
  },
  {
   "attachments": {},
   "cell_type": "markdown",
   "metadata": {},
   "source": [
    "# Train"
   ]
  },
  {
   "cell_type": "code",
   "execution_count": 17,
   "metadata": {},
   "outputs": [
    {
     "name": "stdout",
     "output_type": "stream",
     "text": [
      "Epoch 1/10\n",
      "157/157 [==============================] - 143s 904ms/step - loss: 2.6473 - accuracy: 0.3553 - val_loss: 0.6888 - val_accuracy: 0.8140\n",
      "Epoch 2/10\n",
      "157/157 [==============================] - 138s 872ms/step - loss: 0.2164 - accuracy: 0.9442 - val_loss: 0.0803 - val_accuracy: 0.9781\n",
      "Epoch 3/10\n",
      "157/157 [==============================] - 138s 878ms/step - loss: 0.0323 - accuracy: 0.9916 - val_loss: 0.0764 - val_accuracy: 0.9820\n",
      "Epoch 4/10\n",
      "157/157 [==============================] - 144s 912ms/step - loss: 0.0320 - accuracy: 0.9930 - val_loss: 0.0243 - val_accuracy: 0.9944\n",
      "Epoch 5/10\n",
      "157/157 [==============================] - 172s 1s/step - loss: 0.0318 - accuracy: 0.9938 - val_loss: 0.0190 - val_accuracy: 0.9948\n",
      "Epoch 6/10\n",
      "157/157 [==============================] - 152s 970ms/step - loss: 0.0210 - accuracy: 0.9946 - val_loss: 0.0678 - val_accuracy: 0.9804\n",
      "Epoch 7/10\n",
      "157/157 [==============================] - 152s 969ms/step - loss: 0.0261 - accuracy: 0.9928 - val_loss: 0.0341 - val_accuracy: 0.9916\n",
      "Epoch 8/10\n",
      "157/157 [==============================] - 193s 1s/step - loss: 0.0318 - accuracy: 0.9913 - val_loss: 0.0634 - val_accuracy: 0.9832\n",
      "Epoch 9/10\n",
      "157/157 [==============================] - 159s 1s/step - loss: 0.0201 - accuracy: 0.9944 - val_loss: 0.0798 - val_accuracy: 0.9785\n",
      "Epoch 10/10\n",
      "157/157 [==============================] - 158s 1s/step - loss: 0.0204 - accuracy: 0.9948 - val_loss: 0.0283 - val_accuracy: 0.9928\n"
     ]
    }
   ],
   "source": [
    "epochs=10\n",
    "history = model.fit(\n",
    "\ttrain_ds,\n",
    "\tvalidation_data=val_ds,\n",
    "\tepochs=epochs\n",
    ")"
   ]
  },
  {
   "attachments": {},
   "cell_type": "markdown",
   "metadata": {},
   "source": [
    "# Viz"
   ]
  },
  {
   "cell_type": "code",
   "execution_count": 18,
   "metadata": {},
   "outputs": [
    {
     "data": {
      "image/png": "[encoded data removed]",
      "text/plain": [
       "<Figure size 800x800 with 2 Axes>"
      ]
     },
     "metadata": {},
     "output_type": "display_data"
    }
   ],
   "source": [
    "acc = history.history['accuracy']\n",
    "val_acc = history.history['val_accuracy']\n",
    "\n",
    "loss = history.history['loss']\n",
    "val_loss = history.history['val_loss']\n",
    "\n",
    "epochs_range = range(epochs)\n",
    "\n",
    "plt.figure(figsize=(8, 8))\n",
    "plt.subplot(1, 2, 1)\n",
    "plt.plot(epochs_range, acc, label='Training Accuracy')\n",
    "plt.plot(epochs_range, val_acc, label='Validation Accuracy')\n",
    "plt.legend(loc='lower right')\n",
    "plt.title('Training and Validation Accuracy')\n",
    "\n",
    "plt.subplot(1, 2, 2)\n",
    "plt.plot(epochs_range, loss, label='Training Loss')\n",
    "plt.plot(epochs_range, val_loss, label='Validation Loss')\n",
    "plt.legend(loc='upper right')\n",
    "plt.title('Training and Validation Loss')\n",
    "plt.show()"
   ]
  },
  {
   "cell_type": "code",
   "execution_count": 63,
   "metadata": {},
   "outputs": [
    {
     "name": "stdout",
     "output_type": "stream",
     "text": [
      "1/1 [==============================] - 0s 24ms/step\n",
      "Score: 0.996127188205719 | Position: 19 | Letter: T\n"
     ]
    },
    {
     "data": {
      "image/png": "[encoded data removed]",
      "text/plain": [
       "<Figure size 640x480 with 1 Axes>"
      ]
     },
     "metadata": {},
     "output_type": "display_data"
    }
   ],
   "source": [
    "samplePath = pathlib.Path(\"dataTestProcessed/1_12_12.jpg\")\n",
    "\n",
    "img = tf.keras.utils.load_img( samplePath, target_size=(img_height, img_width) )\n",
    "img_array = tf.keras.utils.img_to_array(img)\n",
    "img_array = tf.expand_dims(img_array, 0)\n",
    "predictions = model.predict(img_array)\n",
    "score = tf.nn.softmax(predictions[0])\n",
    "\n",
    "print(\"Score: {} | Position: {} | Letter: {}\".format(np.max(score), np.argmax(score), class_names[np.argmax(score)]))\n",
    "show(img)"
   ]
  }
 ],
 "metadata": {
  "kernelspec": {
   "display_name": "Python 3",
   "language": "python",
   "name": "python3"
  },
  "language_info": {
   "codemirror_mode": {
    "name": "ipython",
    "version": 3
   },
   "file_extension": ".py",
   "mimetype": "text/x-python",
   "name": "python",
   "nbconvert_exporter": "python",
   "pygments_lexer": "ipython3",
   "version": "3.10.8"
  },
  "orig_nbformat": 4,
  "vscode": {
   "interpreter": {
    "hash": "aee8b7b246df8f9039afb4144a1f6fd8d2ca17a180786b69acc140d282b71a49"
   }
  }
 },
 "nbformat": 4,
 "nbformat_minor": 2
}
