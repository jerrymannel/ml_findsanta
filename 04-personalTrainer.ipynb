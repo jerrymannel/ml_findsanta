{
 "cells": [
  {
   "cell_type": "markdown",
   "metadata": {},
   "source": []
  },
  {
   "cell_type": "code",
   "execution_count": 2,
   "metadata": {},
   "outputs": [
    {
     "name": "stderr",
     "output_type": "stream",
     "text": [
      "2023-01-07 21:19:22.986475: I tensorflow/core/platform/cpu_feature_guard.cc:193] This TensorFlow binary is optimized with oneAPI Deep Neural Network Library (oneDNN) to use the following CPU instructions in performance-critical operations:  AVX2 FMA\n",
      "To enable them in other operations, rebuild TensorFlow with the appropriate compiler flags.\n"
     ]
    }
   ],
   "source": [
    "import os\n",
    "import cv2\n",
    "import numpy as np\n",
    "import pathlib\n",
    "from matplotlib import pyplot as plt\n",
    "\n",
    "import tensorflow as tf\n",
    "\n",
    "from tensorflow import keras\n",
    "from tensorflow.keras import layers\n",
    "from tensorflow.keras.models import Sequential\n",
    "\n",
    "def show(data):\n",
    "\tplt.xticks([])\n",
    "\tplt.yticks([])\n",
    "\tplt.imshow(data)\n",
    "\tplt.show()\n",
    "\n",
    "def printArrayInfo(arr):\n",
    "\tprint(\"---------------------------\")\n",
    "\tprint(\"Size :: \", arr.size)\n",
    "\tprint(\"Shape :: \", arr.shape)\n",
    "\tprint(\"---------------------------\")"
   ]
  },
  {
   "cell_type": "code",
   "execution_count": 3,
   "metadata": {},
   "outputs": [
    {
     "name": "stdout",
     "output_type": "stream",
     "text": [
      "12532\n"
     ]
    }
   ],
   "source": [
    "\n",
    "dataDir = pathlib.Path(\"dataPostProcessed\")\n",
    "imageCount = len(list(dataDir.glob('*/*.jpg')))\n",
    "print(imageCount)\n",
    "\n",
    "batch_size = 32\n",
    "img_height = 184\n",
    "img_width = 187"
   ]
  },
  {
   "attachments": {},
   "cell_type": "markdown",
   "metadata": {},
   "source": [
    "# Dataset"
   ]
  },
  {
   "cell_type": "code",
   "execution_count": 4,
   "metadata": {},
   "outputs": [
    {
     "name": "stdout",
     "output_type": "stream",
     "text": [
      "Found 12532 files belonging to 52 classes.\n",
      "Using 10026 files for training.\n"
     ]
    },
    {
     "name": "stderr",
     "output_type": "stream",
     "text": [
      "2023-01-07 21:19:44.606911: I tensorflow/core/platform/cpu_feature_guard.cc:193] This TensorFlow binary is optimized with oneAPI Deep Neural Network Library (oneDNN) to use the following CPU instructions in performance-critical operations:  AVX2 FMA\n",
      "To enable them in other operations, rebuild TensorFlow with the appropriate compiler flags.\n"
     ]
    }
   ],
   "source": [
    "train_ds = tf.keras.utils.image_dataset_from_directory(\n",
    "\tdataDir,\n",
    "\tvalidation_split=0.2,\n",
    "\tsubset=\"training\",\n",
    "\tseed=76523,\n",
    "\timage_size=(img_height, img_width),\n",
    "\tbatch_size=batch_size)"
   ]
  },
  {
   "cell_type": "code",
   "execution_count": 5,
   "metadata": {},
   "outputs": [
    {
     "name": "stdout",
     "output_type": "stream",
     "text": [
      "Found 12532 files belonging to 52 classes.\n",
      "Using 2506 files for validation.\n"
     ]
    }
   ],
   "source": [
    "val_ds = tf.keras.utils.image_dataset_from_directory(\n",
    "\tdataDir,\n",
    "\tvalidation_split=0.2,\n",
    "\tsubset=\"validation\",\n",
    "\tseed=76523,\n",
    "\timage_size=(img_height, img_width),\n",
    "\tbatch_size=batch_size)"
   ]
  },
  {
   "cell_type": "code",
   "execution_count": 6,
   "metadata": {},
   "outputs": [
    {
     "name": "stdout",
     "output_type": "stream",
     "text": [
      "['A', 'B', 'C', 'D', 'E', 'F', 'G', 'H', 'I', 'J', 'K', 'L', 'M', 'N', 'O', 'P', 'Q', 'R', 'S', 'T', 'U', 'V', 'W', 'X', 'Y', 'Z', 'a', 'b', 'c', 'd', 'e', 'f', 'g', 'h', 'i', 'j', 'k', 'l', 'm', 'n', 'o', 'p', 'q', 'r', 's', 't', 'u', 'v', 'w', 'x', 'y', 'z']\n"
     ]
    }
   ],
   "source": [
    "class_names = train_ds.class_names\n",
    "for id, c in enumerate(class_names):\n",
    "\tclass_names[id] = c.split(\"_\")[0]\n",
    "print(class_names)"
   ]
  },
  {
   "attachments": {},
   "cell_type": "markdown",
   "metadata": {},
   "source": [
    "# Visualize"
   ]
  },
  {
   "cell_type": "code",
   "execution_count": null,
   "metadata": {},
   "outputs": [],
   "source": [
    "plt.figure(figsize=(10, 10))\n",
    "for images, labels in train_ds.take(1):\n",
    "\tfor i in range(9):\n",
    "\t\tax = plt.subplot(3, 3, i + 1)\n",
    "\t\tplt.imshow(images[i].numpy().astype(\"uint8\"))\n",
    "\t\tplt.title(class_names[labels[i]])\n",
    "\t\tplt.axis(\"off\")"
   ]
  },
  {
   "attachments": {},
   "cell_type": "markdown",
   "metadata": {},
   "source": [
    "# Performance"
   ]
  },
  {
   "cell_type": "code",
   "execution_count": 7,
   "metadata": {},
   "outputs": [],
   "source": [
    "AUTOTUNE = tf.data.AUTOTUNE\n",
    "\n",
    "train_ds = train_ds.cache().shuffle(1000).prefetch(buffer_size=AUTOTUNE)\n",
    "val_ds = val_ds.cache().prefetch(buffer_size=AUTOTUNE)"
   ]
  },
  {
   "attachments": {},
   "cell_type": "markdown",
   "metadata": {},
   "source": [
    "# Model"
   ]
  },
  {
   "cell_type": "code",
   "execution_count": 8,
   "metadata": {},
   "outputs": [],
   "source": [
    "num_classes = len(class_names)\n",
    "\n",
    "model = Sequential([\n",
    "\tlayers.Rescaling(1./255, input_shape=(img_height, img_width, 3), name=\"rescaleImage\"),\n",
    "\tlayers.Conv2D(16, 3, padding='same', activation='relu'),\n",
    "\tlayers.MaxPooling2D(),\n",
    "\tlayers.Conv2D(32, 3, padding='same', activation='relu'),\n",
    "\tlayers.MaxPooling2D(),\n",
    "\tlayers.Conv2D(64, 3, padding='same', activation='relu'),\n",
    "\tlayers.MaxPooling2D(),\n",
    "\tlayers.Dropout(0.2),\n",
    "\tlayers.Flatten(),\n",
    "\tlayers.Dense(128, activation='relu'),\n",
    "\tlayers.Dense(num_classes, name=\"output\")\n",
    "], name='imageClassification')"
   ]
  },
  {
   "attachments": {},
   "cell_type": "markdown",
   "metadata": {},
   "source": [
    "# Compile"
   ]
  },
  {
   "cell_type": "code",
   "execution_count": 9,
   "metadata": {},
   "outputs": [
    {
     "name": "stdout",
     "output_type": "stream",
     "text": [
      "Model: \"imageClassification\"\n",
      "_________________________________________________________________\n",
      " Layer (type)                Output Shape              Param #   \n",
      "=================================================================\n",
      " rescaleImage (Rescaling)    (None, 184, 187, 3)       0         \n",
      "                                                                 \n",
      " conv2d (Conv2D)             (None, 184, 187, 16)      448       \n",
      "                                                                 \n",
      " max_pooling2d (MaxPooling2D  (None, 92, 93, 16)       0         \n",
      " )                                                               \n",
      "                                                                 \n",
      " conv2d_1 (Conv2D)           (None, 92, 93, 32)        4640      \n",
      "                                                                 \n",
      " max_pooling2d_1 (MaxPooling  (None, 46, 46, 32)       0         \n",
      " 2D)                                                             \n",
      "                                                                 \n",
      " conv2d_2 (Conv2D)           (None, 46, 46, 64)        18496     \n",
      "                                                                 \n",
      " max_pooling2d_2 (MaxPooling  (None, 23, 23, 64)       0         \n",
      " 2D)                                                             \n",
      "                                                                 \n",
      " dropout (Dropout)           (None, 23, 23, 64)        0         \n",
      "                                                                 \n",
      " flatten (Flatten)           (None, 33856)             0         \n",
      "                                                                 \n",
      " dense (Dense)               (None, 128)               4333696   \n",
      "                                                                 \n",
      " output (Dense)              (None, 52)                6708      \n",
      "                                                                 \n",
      "=================================================================\n",
      "Total params: 4,363,988\n",
      "Trainable params: 4,363,988\n",
      "Non-trainable params: 0\n",
      "_________________________________________________________________\n"
     ]
    }
   ],
   "source": [
    "model.compile(optimizer='adam', loss=tf.keras.losses.SparseCategoricalCrossentropy(from_logits=True), metrics=['accuracy'])\n",
    "model.summary()"
   ]
  },
  {
   "attachments": {},
   "cell_type": "markdown",
   "metadata": {},
   "source": [
    "# Train"
   ]
  },
  {
   "cell_type": "code",
   "execution_count": 10,
   "metadata": {},
   "outputs": [
    {
     "name": "stdout",
     "output_type": "stream",
     "text": [
      "Epoch 1/15\n",
      "314/314 [==============================] - 148s 456ms/step - loss: 1.8967 - accuracy: 0.5298 - val_loss: 0.3365 - val_accuracy: 0.9050\n",
      "Epoch 2/15\n",
      "314/314 [==============================] - 171s 544ms/step - loss: 0.1241 - accuracy: 0.9671 - val_loss: 0.0960 - val_accuracy: 0.9681\n",
      "Epoch 3/15\n",
      "314/314 [==============================] - 159s 507ms/step - loss: 0.0481 - accuracy: 0.9860 - val_loss: 0.0571 - val_accuracy: 0.9812\n",
      "Epoch 4/15\n",
      "314/314 [==============================] - 150s 478ms/step - loss: 0.0242 - accuracy: 0.9931 - val_loss: 0.0427 - val_accuracy: 0.9868\n",
      "Epoch 5/15\n",
      "314/314 [==============================] - 144s 458ms/step - loss: 0.0303 - accuracy: 0.9922 - val_loss: 0.0982 - val_accuracy: 0.9792\n",
      "Epoch 6/15\n",
      "314/314 [==============================] - 150s 474ms/step - loss: 0.0593 - accuracy: 0.9823 - val_loss: 0.0753 - val_accuracy: 0.9741\n",
      "Epoch 7/15\n",
      "314/314 [==============================] - 155s 493ms/step - loss: 0.0265 - accuracy: 0.9926 - val_loss: 0.0463 - val_accuracy: 0.9880\n",
      "Epoch 8/15\n",
      "314/314 [==============================] - 174s 554ms/step - loss: 0.0194 - accuracy: 0.9957 - val_loss: 0.0340 - val_accuracy: 0.9912\n",
      "Epoch 9/15\n",
      "314/314 [==============================] - 151s 481ms/step - loss: 0.0083 - accuracy: 0.9973 - val_loss: 0.0137 - val_accuracy: 0.9960\n",
      "Epoch 10/15\n",
      "314/314 [==============================] - 156s 496ms/step - loss: 0.0103 - accuracy: 0.9974 - val_loss: 0.0409 - val_accuracy: 0.9892\n",
      "Epoch 11/15\n",
      "314/314 [==============================] - 146s 464ms/step - loss: 0.0126 - accuracy: 0.9971 - val_loss: 0.0320 - val_accuracy: 0.9912\n",
      "Epoch 12/15\n",
      "314/314 [==============================] - 161s 512ms/step - loss: 0.0360 - accuracy: 0.9903 - val_loss: 0.0618 - val_accuracy: 0.9840\n",
      "Epoch 13/15\n",
      "314/314 [==============================] - 162s 515ms/step - loss: 0.0111 - accuracy: 0.9974 - val_loss: 0.0298 - val_accuracy: 0.9936\n",
      "Epoch 14/15\n",
      "314/314 [==============================] - 148s 471ms/step - loss: 0.0157 - accuracy: 0.9950 - val_loss: 0.0622 - val_accuracy: 0.9876\n",
      "Epoch 15/15\n",
      "314/314 [==============================] - 165s 525ms/step - loss: 0.0155 - accuracy: 0.9960 - val_loss: 0.0239 - val_accuracy: 0.9944\n"
     ]
    }
   ],
   "source": [
    "epochs=15\n",
    "history = model.fit(\n",
    "\ttrain_ds,\n",
    "\tvalidation_data=val_ds,\n",
    "\tepochs=epochs\n",
    ")"
   ]
  },
  {
   "attachments": {},
   "cell_type": "markdown",
   "metadata": {},
   "source": [
    "# Viz"
   ]
  },
  {
   "cell_type": "code",
   "execution_count": 11,
   "metadata": {},
   "outputs": [
    {
     "data": {
      "image/png": "[encoded data removed]",
      "text/plain": [
       "<Figure size 800x800 with 2 Axes>"
      ]
     },
     "metadata": {},
     "output_type": "display_data"
    }
   ],
   "source": [
    "acc = history.history['accuracy']\n",
    "val_acc = history.history['val_accuracy']\n",
    "\n",
    "loss = history.history['loss']\n",
    "val_loss = history.history['val_loss']\n",
    "\n",
    "epochs_range = range(epochs)\n",
    "\n",
    "plt.figure(figsize=(8, 8))\n",
    "plt.subplot(1, 2, 1)\n",
    "plt.plot(epochs_range, acc, label='Training Accuracy')\n",
    "plt.plot(epochs_range, val_acc, label='Validation Accuracy')\n",
    "plt.legend(loc='lower right')\n",
    "plt.title('Training and Validation Accuracy')\n",
    "\n",
    "plt.subplot(1, 2, 2)\n",
    "plt.plot(epochs_range, loss, label='Training Loss')\n",
    "plt.plot(epochs_range, val_loss, label='Validation Loss')\n",
    "plt.legend(loc='upper right')\n",
    "plt.title('Training and Validation Loss')\n",
    "plt.show()"
   ]
  },
  {
   "cell_type": "code",
   "execution_count": 12,
   "metadata": {},
   "outputs": [
    {
     "name": "stdout",
     "output_type": "stream",
     "text": [
      "1/1 [==============================] - 1s 606ms/step\n",
      "Score: 0.999996542930603 | Position: 31 | Letter: f\n"
     ]
    },
    {
     "data": {
      "image/png": "[encoded data removed]",
      "text/plain": [
       "<Figure size 640x480 with 1 Axes>"
      ]
     },
     "metadata": {},
     "output_type": "display_data"
    }
   ],
   "source": [
    "samplePath = pathlib.Path(\"dataTestProcessed/3_1_1.jpg\")\n",
    "\n",
    "img = tf.keras.utils.load_img( samplePath, target_size=(img_height, img_width) )\n",
    "img_array = tf.keras.utils.img_to_array(img)\n",
    "img_array = tf.expand_dims(img_array, 0)\n",
    "predictions = model.predict(img_array)\n",
    "score = tf.nn.softmax(predictions[0])\n",
    "\n",
    "print(\"Score: {} | Position: {} | Letter: {}\".format(np.max(score), np.argmax(score), class_names[np.argmax(score)]))\n",
    "show(img)"
   ]
  },
  {
   "attachments": {},
   "cell_type": "markdown",
   "metadata": {},
   "source": [
    "# Save"
   ]
  },
  {
   "cell_type": "code",
   "execution_count": 13,
   "metadata": {},
   "outputs": [
    {
     "name": "stderr",
     "output_type": "stream",
     "text": [
      "WARNING:absl:Function `_wrapped_model` contains input name(s) rescaleImage_input with unsupported characters which will be renamed to rescaleimage_input in the SavedModel.\n",
      "WARNING:absl:Found untraced functions such as _jit_compiled_convolution_op, _jit_compiled_convolution_op, _jit_compiled_convolution_op, _update_step_xla while saving (showing 4 of 4). These functions will not be directly callable after loading.\n"
     ]
    },
    {
     "name": "stdout",
     "output_type": "stream",
     "text": [
      "INFO:tensorflow:Assets written to: /var/folders/zz/cdkl7mtd2hzgf6sdzm56xmkc0000gn/T/tmp32852rqe/assets\n"
     ]
    },
    {
     "name": "stderr",
     "output_type": "stream",
     "text": [
      "INFO:tensorflow:Assets written to: /var/folders/zz/cdkl7mtd2hzgf6sdzm56xmkc0000gn/T/tmp32852rqe/assets\n",
      "2023-01-07 22:20:11.252581: W tensorflow/compiler/mlir/lite/python/tf_tfl_flatbuffer_helpers.cc:362] Ignored output_format.\n",
      "2023-01-07 22:20:11.253578: W tensorflow/compiler/mlir/lite/python/tf_tfl_flatbuffer_helpers.cc:365] Ignored drop_control_dependency.\n",
      "2023-01-07 22:20:11.265852: I tensorflow/cc/saved_model/reader.cc:45] Reading SavedModel from: /var/folders/zz/cdkl7mtd2hzgf6sdzm56xmkc0000gn/T/tmp32852rqe\n",
      "2023-01-07 22:20:11.268673: I tensorflow/cc/saved_model/reader.cc:89] Reading meta graph with tags { serve }\n",
      "2023-01-07 22:20:11.268699: I tensorflow/cc/saved_model/reader.cc:130] Reading SavedModel debug info (if present) from: /var/folders/zz/cdkl7mtd2hzgf6sdzm56xmkc0000gn/T/tmp32852rqe\n",
      "2023-01-07 22:20:11.282753: I tensorflow/compiler/mlir/mlir_graph_optimization_pass.cc:357] MLIR V1 optimization pass is not enabled\n",
      "2023-01-07 22:20:11.285486: I tensorflow/cc/saved_model/loader.cc:229] Restoring SavedModel bundle.\n",
      "2023-01-07 22:20:11.408382: I tensorflow/cc/saved_model/loader.cc:213] Running initialization op on SavedModel bundle at path: /var/folders/zz/cdkl7mtd2hzgf6sdzm56xmkc0000gn/T/tmp32852rqe\n",
      "2023-01-07 22:20:11.427134: I tensorflow/cc/saved_model/loader.cc:305] SavedModel load for tags { serve }; Status: success: OK. Took 162443 microseconds.\n",
      "2023-01-07 22:20:11.505611: I tensorflow/compiler/mlir/tensorflow/utils/dump_mlir_util.cc:268] disabling MLIR crash reproducer, set env var `MLIR_CRASH_REPRODUCER_DIRECTORY` to enable.\n"
     ]
    }
   ],
   "source": [
    "# Convert the model.\n",
    "converter = tf.lite.TFLiteConverter.from_keras_model(model)\n",
    "tflite_model = converter.convert()\n",
    "\n",
    "# Save the model.\n",
    "with open('imageClassificationModel.tflite', 'wb') as f:\n",
    "\tf.write(tflite_model)"
   ]
  },
  {
   "attachments": {},
   "cell_type": "markdown",
   "metadata": {},
   "source": [
    "# Lite model"
   ]
  },
  {
   "cell_type": "code",
   "execution_count": 14,
   "metadata": {},
   "outputs": [
    {
     "name": "stdout",
     "output_type": "stream",
     "text": [
      "{'serving_default': {'inputs': ['rescaleImage_input'], 'outputs': ['output']}}\n"
     ]
    },
    {
     "data": {
      "text/plain": [
       "<tensorflow.lite.python.interpreter.SignatureRunner at 0x1589c2fb0>"
      ]
     },
     "execution_count": 14,
     "metadata": {},
     "output_type": "execute_result"
    }
   ],
   "source": [
    "TF_MODEL_FILE_PATH = \"imageClassificationModel.tflite\"\n",
    "\n",
    "interpreter = tf.lite.Interpreter(model_path=TF_MODEL_FILE_PATH)\n",
    "\n",
    "print(interpreter.get_signature_list())\n",
    "\n",
    "classify_lite = interpreter.get_signature_runner('serving_default')\n",
    "classify_lite"
   ]
  },
  {
   "cell_type": "code",
   "execution_count": 15,
   "metadata": {},
   "outputs": [
    {
     "name": "stdout",
     "output_type": "stream",
     "text": [
      "Score: 0.999996542930603 | Position: 31 | Letter: f\n"
     ]
    }
   ],
   "source": [
    "img = tf.keras.utils.load_img( samplePath, target_size=(img_height, img_width) )\n",
    "img_array = tf.keras.utils.img_to_array(img)\n",
    "img_array = tf.expand_dims(img_array, 0)\n",
    "\n",
    "predictions_lite = classify_lite(rescaleImage_input=img_array)['output']\n",
    "score_lite = tf.nn.softmax(predictions_lite)\n",
    "\n",
    "print(\"Score: {} | Position: {} | Letter: {}\".format(np.max(score_lite), np.argmax(score_lite), class_names[np.argmax(score_lite)]))"
   ]
  }
 ],
 "metadata": {
  "kernelspec": {
   "display_name": "Python 3",
   "language": "python",
   "name": "python3"
  },
  "language_info": {
   "codemirror_mode": {
    "name": "ipython",
    "version": 3
   },
   "file_extension": ".py",
   "mimetype": "text/x-python",
   "name": "python",
   "nbconvert_exporter": "python",
   "pygments_lexer": "ipython3",
   "version": "3.10.8 (main, Oct 13 2022, 10:17:43) [Clang 14.0.0 (clang-1400.0.29.102)]"
  },
  "orig_nbformat": 4,
  "vscode": {
   "interpreter": {
    "hash": "aee8b7b246df8f9039afb4144a1f6fd8d2ca17a180786b69acc140d282b71a49"
   }
  }
 },
 "nbformat": 4,
 "nbformat_minor": 2
}
