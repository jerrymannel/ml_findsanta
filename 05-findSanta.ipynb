{
 "cells": [
  {
   "cell_type": "code",
   "execution_count": 1,
   "metadata": {},
   "outputs": [
    {
     "name": "stdout",
     "output_type": "stream",
     "text": [
      "185 187\n"
     ]
    }
   ],
   "source": [
    "import pathlib\n",
    "from PIL import Image\n",
    "import cv2\n",
    "import os\n",
    "import numpy as np\n",
    "from matplotlib import pyplot as plt\n",
    "\n",
    "import tensorflow as tf\n",
    "os.environ['TF_CPP_MIN_LOG_LEVEL'] = '2'\n",
    "\n",
    "def show(data):\n",
    "\tplt.xticks([])\n",
    "\tplt.yticks([])\n",
    "\tplt.imshow(data)\n",
    "\tplt.show()\n",
    "\n",
    "height, width = 2799, 2812\n",
    "rowHeight = int(height / 15) - 1\n",
    "colWidth = int(width / 15)\n",
    "print(rowHeight, colWidth)\n",
    "\n",
    "outputfilePath = pathlib.Path(\"dataTestProcessed\")\n",
    "\n",
    "img_height = 184\n",
    "img_width = 187\n",
    "class_names = ['A', 'B', 'C', 'D', 'E', 'F', 'G', 'H', 'I', 'J', 'K', 'L', 'M', 'N', 'O', 'P', 'Q', 'R', 'S', 'T', 'U', 'V', 'W', 'X', 'Y',\n",
    "               'Z', 'a', 'b', 'c', 'd', 'e', 'f', 'g', 'h', 'i', 'j', 'k', 'l', 'm', 'n', 'o', 'p', 'q', 'r', 's', 't', 'u', 'v', 'w', 'x', 'y', 'z']"
   ]
  },
  {
   "attachments": {},
   "cell_type": "markdown",
   "metadata": {},
   "source": [
    "# Load Model"
   ]
  },
  {
   "cell_type": "code",
   "execution_count": 2,
   "metadata": {},
   "outputs": [
    {
     "name": "stdout",
     "output_type": "stream",
     "text": [
      "{'serving_default': {'inputs': ['rescaleImage_input'], 'outputs': ['output']}}\n"
     ]
    }
   ],
   "source": [
    "TF_MODEL_FILE_PATH = \"imageClassificationModel.tflite\"\n",
    "interpreter = tf.lite.Interpreter(model_path=TF_MODEL_FILE_PATH)\n",
    "print(interpreter.get_signature_list())\n",
    "\n",
    "classify_lite = interpreter.get_signature_runner('serving_default')"
   ]
  },
  {
   "attachments": {},
   "cell_type": "markdown",
   "metadata": {},
   "source": [
    "# Generate character matrix"
   ]
  },
  {
   "cell_type": "code",
   "execution_count": 3,
   "metadata": {},
   "outputs": [],
   "source": [
    "def generateCharacterMatrix(pageNumber):\n",
    "    print(\"Generating raw matrix\")\n",
    "    charMatrix = []\n",
    "    x, y = 0, 0\n",
    "    while x < 15:\n",
    "        charMatrixRow = []\n",
    "        y = 0\n",
    "        while y < 15:\n",
    "            imageName = \"{}_{}_{}.jpg\".format(pageNumber, x, y)\n",
    "            imagePath = outputfilePath.joinpath(imageName)\n",
    "            img = tf.keras.utils.load_img(str(imagePath), target_size=(img_height, img_width) )\n",
    "            img_array = tf.keras.utils.img_to_array(img)\n",
    "            img_array = tf.expand_dims(img_array, 0)\n",
    "\n",
    "            predictions_lite = classify_lite(rescaleImage_input=img_array)['output']\n",
    "            score_lite = tf.nn.softmax(predictions_lite)\n",
    "\n",
    "            # print(\"Score: {} | Position: {} | Letter: {}\".format(np.max(score_lite), np.argmax(score_lite), class_names[np.argmax(score_lite)]))\n",
    "            charMatrixRow.append(class_names[np.argmax(score_lite)].upper())\n",
    "            y += 1\n",
    "        x += 1\n",
    "        charMatrix.append(charMatrixRow)\n",
    "    return np.array(charMatrix)"
   ]
  },
  {
   "attachments": {},
   "cell_type": "markdown",
   "metadata": {},
   "source": [
    "# Find Santa Routine"
   ]
  },
  {
   "cell_type": "code",
   "execution_count": 4,
   "metadata": {},
   "outputs": [],
   "source": [
    "santas = [\"ARUSHI\", \"CHANDAN\", \"MEGHANA\", \"SHRIDAR\", \"JERRY\", \"VAISHNAVI\", \"UTKARSH\", \"BRUNDA\", \"MOHAN\", \"SANDIL\", \"PARVATHY\", \"SIVA\", \"JUGNU\", \"HAMSINI\", \"ABUZAR\", \"KASHMEERA\", \"ABHIJEET\", \"DHEEMANTH\", \"NEELKANT\", \"ANURAAG\", \"NIRAV\", \"DEEPAK\", \"KAVI\", \"SNEHAL\", \"KARTHIK\", \"GAURAV\", \"NAVANEETA\", \"VIGNESH\", \"DEEPAK\", \"SUSHMITHA\", \"MOHNEESH\", \"YASH\", \"VIKAS\", \"GOPAKUMAR\"]\n",
    "\n",
    "def searchByRows(charImageMatrix):\n",
    "\tprint(\"Searching rows\")\n",
    "\tfor i in range(15):\n",
    "\t\tline =\"\"\n",
    "\t\tfor c in charImageMatrix[i, :]:\n",
    "\t\t\tline += c\n",
    "\t\tfor s in santas:\n",
    "\t\t\tcount = line.count(s)\n",
    "\t\t\tif count > 0:\n",
    "\t\t\t\treturn i, s\n",
    "\t\t\tcount = line[::-1].count(s)\n",
    "\t\t\tif count > 0:\n",
    "\t\t\t\treturn i, s\n",
    "\treturn 0, \"\"\n",
    "\n",
    "def searchByColumns(charImageMatrix):\n",
    "\tprint(\"Searching columns\")\n",
    "\tfor i in range(15):\n",
    "\t\tline =\"\"\n",
    "\t\tfor c in charImageMatrix[:, i]:\n",
    "\t\t\tline += c\n",
    "\t\tfor s in santas:\n",
    "\t\t\tcount = line.count(s)\n",
    "\t\t\tif count > 0:\n",
    "\t\t\t\treturn i, s\n",
    "\t\t\tcount = line[::-1].count(s)\n",
    "\t\t\tif count > 0:\n",
    "\t\t\t\treturn i, s\n",
    "\treturn 0, \"\"\n",
    "\n",
    "def searchDiagonally(charImageMatrix):\n",
    "\tprint(\"Searching diagonally\")\n",
    "\tmax = 15\n",
    "\tdiagonals = []\n",
    "\tfor i in range(15):\n",
    "\t\tline = \"\"\n",
    "\t\tx = 0\n",
    "\t\tfor loop in range(15):\n",
    "\t\t\tif x + i < 15:\n",
    "\t\t\t\tline += charImageMatrix[x][x+i]\n",
    "\t\t\tx += 1\n",
    "\t\tfor s in santas:\n",
    "\t\t\tcount = line.count(s)\n",
    "\t\t\tif count > 0:\n",
    "\t\t\t\treturn x, i, s\n",
    "\t\t\tcount = line[::-1].count(s)\n",
    "\t\t\tif count > 0:\n",
    "\t\t\t\treturn x, i, s\n",
    "\tfor i in range(15):\n",
    "\t\ti = i+1\n",
    "\t\tif(i == 15):\n",
    "\t\t\tbreak\n",
    "\t\tline = \"\"\n",
    "\t\tx = 0\n",
    "\t\tfor loop in range(15):\n",
    "\t\t\tif x + i < 15:\n",
    "\t\t\t\tline += charImageMatrix[x+i][x]\n",
    "\t\t\tx += 1\n",
    "\t\tfor s in santas:\n",
    "\t\t\tcount = line.count(s)\n",
    "\t\t\tif count > 0:\n",
    "\t\t\t\treturn x, i, s\n",
    "\t\t\tcount = line[::-1].count(s)\n",
    "\t\t\tif count > 0:\n",
    "\t\t\t\treturn x, i, s\n",
    "\treturn 0, 0, \"\"\n"
   ]
  },
  {
   "attachments": {},
   "cell_type": "markdown",
   "metadata": {},
   "source": [
    "# Find Santa\n",
    "\n",
    "> Start here"
   ]
  },
  {
   "cell_type": "code",
   "execution_count": 7,
   "metadata": {},
   "outputs": [
    {
     "name": "stdout",
     "output_type": "stream",
     "text": [
      "-------- [START] - TEST-34 --------\n",
      "Generating raw matrix\n",
      "[['M' 'S' 'U' 'E' 'Z' 'R' 'E' 'B' 'R' 'F' 'E' 'K' 'B' 'C' 'N']\n",
      " ['Y' 'F' 'M' 'K' 'W' 'J' 'I' 'A' 'V' 'M' 'T' 'E' 'M' 'U' 'X']\n",
      " ['S' 'X' 'A' 'C' 'N' 'X' 'M' 'R' 'F' 'M' 'C' 'O' 'V' 'W' 'D']\n",
      " ['G' 'V' 'S' 'I' 'W' 'U' 'Z' 'B' 'T' 'S' 'B' 'S' 'R' 'I' 'B']\n",
      " ['L' 'G' 'Q' 'H' 'K' 'D' 'I' 'Y' 'A' 'T' 'X' 'L' 'U' 'M' 'Z']\n",
      " ['Y' 'J' 'Y' 'A' 'B' 'K' 'O' 'J' 'L' 'O' 'S' 'M' 'W' 'G' 'Z']\n",
      " ['I' 'Z' 'P' 'F' 'G' 'I' 'R' 'S' 'F' 'Y' 'L' 'X' 'S' 'U' 'Q']\n",
      " ['A' 'A' 'Q' 'M' 'P' 'H' 'Q' 'S' 'O' 'K' 'G' 'M' 'K' 'X' 'X']\n",
      " ['G' 'E' 'T' 'A' 'D' 'B' 'Z' 'W' 'K' 'L' 'R' 'J' 'B' 'B' 'C']\n",
      " ['T' 'N' 'Q' 'J' 'M' 'Z' 'D' 'B' 'C' 'P' 'O' 'P' 'U' 'C' 'U']\n",
      " ['Y' 'O' 'H' 'G' 'M' 'Y' 'D' 'F' 'B' 'U' 'C' 'M' 'B' 'D' 'O']\n",
      " ['E' 'L' 'O' 'B' 'U' 'Q' 'P' 'Q' 'R' 'P' 'N' 'X' 'C' 'S' 'O']\n",
      " ['K' 'E' 'S' 'Y' 'Z' 'Y' 'A' 'A' 'L' 'K' 'C' 'P' 'X' 'R' 'G']\n",
      " ['D' 'D' 'G' 'P' 'F' 'M' 'E' 'Q' 'U' 'Y' 'K' 'D' 'D' 'H' 'M']\n",
      " ['J' 'X' 'Q' 'E' 'W' 'G' 'F' 'T' 'M' 'K' 'E' 'A' 'M' 'Q' 'B']]\n",
      "Searching rows\n",
      "Searching columns\n",
      "Searching diagonally\n",
      "Searching diagonally\n",
      "Santa -> \n",
      "-------- [DONE] - TEST-34 --------\n",
      "\n"
     ]
    }
   ],
   "source": [
    "def findSanta(pageNumber):\n",
    "\tcharImageMatrix = generateCharacterMatrix(pageNumber)\n",
    "\tprint(charImageMatrix)\n",
    "\trow, santa = searchByRows(charImageMatrix)\n",
    "\tif santa != \"\":\n",
    "\t\treturn santa\n",
    "\tcol, santa = searchByColumns(charImageMatrix)\n",
    "\tif santa != \"\":\n",
    "\t\treturn santa\n",
    "\tcol, row, santa = searchDiagonally(charImageMatrix)\n",
    "\tif santa != \"\":\n",
    "\t\treturn santa\n",
    "\tcol, row, santa = searchDiagonally(charImageMatrix[::-1])\n",
    "\treturn santa\n",
    "\n",
    "# TEST-02 -> Jerry\n",
    "# TEST-23 -> Vaishnavi\n",
    "# TEST-34 -> Kashmeera\n",
    "\n",
    "pageNumber = \"TEST-34\"\n",
    "img = cv2.imread('pages/'+pageNumber+'.jpg')\n",
    "# show(img)\n",
    "print(\"-------- [START] - {} --------\".format(pageNumber))\n",
    "print(\"Santa -> {}\".format(findSanta(pageNumber)))\n",
    "print(\"-------- [DONE] - {} --------\\n\".format(pageNumber))"
   ]
  }
 ],
 "metadata": {
  "kernelspec": {
   "display_name": "Python 3",
   "language": "python",
   "name": "python3"
  },
  "language_info": {
   "codemirror_mode": {
    "name": "ipython",
    "version": 3
   },
   "file_extension": ".py",
   "mimetype": "text/x-python",
   "name": "python",
   "nbconvert_exporter": "python",
   "pygments_lexer": "ipython3",
   "version": "3.9.6"
  },
  "orig_nbformat": 4,
  "vscode": {
   "interpreter": {
    "hash": "aee8b7b246df8f9039afb4144a1f6fd8d2ca17a180786b69acc140d282b71a49"
   }
  }
 },
 "nbformat": 4,
 "nbformat_minor": 2
}
