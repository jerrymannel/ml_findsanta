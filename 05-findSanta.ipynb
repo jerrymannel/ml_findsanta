{
 "cells": [
  {
   "cell_type": "code",
   "execution_count": 23,
   "metadata": {},
   "outputs": [
    {
     "name": "stdout",
     "output_type": "stream",
     "text": [
      "185 187\n"
     ]
    }
   ],
   "source": [
    "import pathlib\n",
    "from PIL import Image\n",
    "import cv2\n",
    "import os\n",
    "import numpy as np\n",
    "\n",
    "import tensorflow as tf\n",
    "os.environ['TF_CPP_MIN_LOG_LEVEL'] = '2'\n",
    "\n",
    "height, width = 2799, 2812\n",
    "rowHeight = int(height / 15) - 1\n",
    "colWidth = int(width / 15)\n",
    "print(rowHeight, colWidth)\n",
    "\n",
    "outputfilePath = pathlib.Path(\"dataTestProcessed\")\n",
    "\n",
    "img_height = 184\n",
    "img_width = 187\n",
    "class_names = ['A', 'B', 'C', 'D', 'E', 'F', 'G', 'H', 'I', 'J', 'K', 'L', 'M', 'N', 'O', 'P', 'Q', 'R', 'S', 'T', 'U', 'V', 'W', 'X', 'Y',\n",
    "               'Z', 'a', 'b', 'c', 'd', 'e', 'f', 'g', 'h', 'i', 'j', 'k', 'l', 'm', 'n', 'o', 'p', 'q', 'r', 's', 't', 'u', 'v', 'w', 'x', 'y', 'z']"
   ]
  },
  {
   "attachments": {},
   "cell_type": "markdown",
   "metadata": {},
   "source": [
    "# Load Model"
   ]
  },
  {
   "cell_type": "code",
   "execution_count": 24,
   "metadata": {},
   "outputs": [
    {
     "name": "stdout",
     "output_type": "stream",
     "text": [
      "{'serving_default': {'inputs': ['rescaleImage_input'], 'outputs': ['output']}}\n"
     ]
    }
   ],
   "source": [
    "TF_MODEL_FILE_PATH = \"imageClassificationModel.tflite\"\n",
    "interpreter = tf.lite.Interpreter(model_path=TF_MODEL_FILE_PATH)\n",
    "print(interpreter.get_signature_list())\n",
    "\n",
    "classify_lite = interpreter.get_signature_runner('serving_default')"
   ]
  },
  {
   "attachments": {},
   "cell_type": "markdown",
   "metadata": {},
   "source": [
    "# Generate character matrix"
   ]
  },
  {
   "cell_type": "code",
   "execution_count": 37,
   "metadata": {},
   "outputs": [],
   "source": [
    "def generateCharacterMatrix(pageNumber):\n",
    "    print(\"Generating raw matrix\")\n",
    "    charMatrix = []\n",
    "    x, y = 0, 0\n",
    "    while x < 15:\n",
    "        charMatrixRow = []\n",
    "        y = 0\n",
    "        while y < 15:\n",
    "            imageName = \"{}_{}_{}.jpg\".format(pageNumber, x, y)\n",
    "            imagePath = outputfilePath.joinpath(imageName)\n",
    "            img = tf.keras.utils.load_img(str(imagePath), target_size=(img_height, img_width) )\n",
    "            img_array = tf.keras.utils.img_to_array(img)\n",
    "            img_array = tf.expand_dims(img_array, 0)\n",
    "\n",
    "            predictions_lite = classify_lite(rescaleImage_input=img_array)['output']\n",
    "            score_lite = tf.nn.softmax(predictions_lite)\n",
    "\n",
    "            # print(\"Score: {} | Position: {} | Letter: {}\".format(np.max(score_lite), np.argmax(score_lite), class_names[np.argmax(score_lite)]))\n",
    "            charMatrixRow.append(class_names[np.argmax(score_lite)].upper())\n",
    "            y += 1\n",
    "        x += 1\n",
    "        charMatrix.append(charMatrixRow)\n",
    "    return np.array(charMatrix)"
   ]
  },
  {
   "attachments": {},
   "cell_type": "markdown",
   "metadata": {},
   "source": [
    "# Find Santa Routine"
   ]
  },
  {
   "cell_type": "code",
   "execution_count": 139,
   "metadata": {},
   "outputs": [],
   "source": [
    "santas = [\"ARUSHI\", \"CHANDAN\", \"MEGHANA\", \"SHRIDAR\", \"JERRY\", \"VAISHNAVI\", \"UTKARSH\", \"BRUNDA\", \"MOHAN\", \"SANDIL\", \"PARVATHY\", \"SIVA\", \"JUGNU\", \"HAMSINI\", \"ABUZAR\", \"KASHMEERA\", \"ABHIJEET\", \"DHEEMANTH\", \"NEELKANT\", \"ANURAAG\", \"NIRAV\", \"DEEPAK\", \"KAVI\", \"SNEHAL\", \"KARTHIK\", \"GAURAV\", \"NAVANEETA\", \"VIGNESH\", \"DEEPAK\", \"SUSHMITHA\", \"MOHNEESH\", \"YASH\", \"VIKAS\", \"GOPAKUMAR\"]\n",
    "\n",
    "def searchByRows(charImageMatrix):\n",
    "\tprint(\"Searching rows\")\n",
    "\tfor i in range(15):\n",
    "\t\tline =\"\"\n",
    "\t\tfor c in charImageMatrix[i, :]:\n",
    "\t\t\tline += c\n",
    "\t\tfor s in santas:\n",
    "\t\t\tcount = line.count(s)\n",
    "\t\t\tif count > 0:\n",
    "\t\t\t\treturn i, s\n",
    "\t\t\tcount = line[::-1].count(s)\n",
    "\t\t\tif count > 0:\n",
    "\t\t\t\treturn i, s\n",
    "\treturn 0, \"\"\n",
    "\n",
    "def searchByColumns(charImageMatrix):\n",
    "\tprint(\"Searching columns\")\n",
    "\tfor i in range(15):\n",
    "\t\tline =\"\"\n",
    "\t\tfor c in charImageMatrix[:, i]:\n",
    "\t\t\tline += c\n",
    "\t\tfor s in santas:\n",
    "\t\t\tcount = line.count(s)\n",
    "\t\t\tif count > 0:\n",
    "\t\t\t\treturn i, s\n",
    "\t\t\tcount = line[::-1].count(s)\n",
    "\t\t\tif count > 0:\n",
    "\t\t\t\treturn i, s\n",
    "\treturn 0, \"\"\n",
    "\n",
    "def searchDiagonally(charImageMatrix):\n",
    "\tprint(\"Searching diagonally\")\n",
    "\tmax = 15\n",
    "\tdiagonals = []\n",
    "\tfor i in range(15):\n",
    "\t\tline = \"\"\n",
    "\t\tx = 0\n",
    "\t\tfor loop in range(15):\n",
    "\t\t\tif x + i < 15:\n",
    "\t\t\t\tline += charImageMatrix[x][x+i]\n",
    "\t\t\tx += 1\n",
    "\t\tfor s in santas:\n",
    "\t\t\tcount = line.count(s)\n",
    "\t\t\tif count > 0:\n",
    "\t\t\t\treturn x, i, s\n",
    "\t\t\tcount = line[::-1].count(s)\n",
    "\t\t\tif count > 0:\n",
    "\t\t\t\treturn x, i, s\n",
    "\tfor i in range(15):\n",
    "\t\ti = i+1\n",
    "\t\tif(i == 15):\n",
    "\t\t\tbreak\n",
    "\t\tline = \"\"\n",
    "\t\tx = 0\n",
    "\t\tfor loop in range(15):\n",
    "\t\t\tif x + i < 15:\n",
    "\t\t\t\tline += charImageMatrix[x+i][x]\n",
    "\t\t\tx += 1\n",
    "\t\tfor s in santas:\n",
    "\t\t\tcount = line.count(s)\n",
    "\t\t\tif count > 0:\n",
    "\t\t\t\treturn x, i, s\n",
    "\t\t\tcount = line[::-1].count(s)\n",
    "\t\t\tif count > 0:\n",
    "\t\t\t\treturn x, i, s\n",
    "\treturn 0, 0, \"\"\n"
   ]
  },
  {
   "attachments": {},
   "cell_type": "markdown",
   "metadata": {},
   "source": [
    "# Find Santa\n",
    "\n",
    "> Start here"
   ]
  },
  {
   "cell_type": "code",
   "execution_count": 143,
   "metadata": {},
   "outputs": [
    {
     "name": "stdout",
     "output_type": "stream",
     "text": [
      "-------- [START] - 1 --------\n",
      "Generating raw matrix\n",
      "[['P' 'A' 'H' 'X' 'J' 'K' 'D' 'E' 'P' 'S' 'C' 'F' 'J' 'V' 'F']\n",
      " ['T' 'A' 'Z' 'J' 'T' 'R' 'A' 'N' 'V' 'A' 'B' 'A' 'V' 'H' 'J']\n",
      " ['O' 'F' 'F' 'E' 'G' 'O' 'G' 'I' 'O' 'Z' 'Q' 'K' 'Y' 'E' 'Y']\n",
      " ['A' 'J' 'V' 'Y' 'I' 'X' 'J' 'F' 'C' 'L' 'I' 'F' 'V' 'C' 'B']\n",
      " ['H' 'T' 'T' 'L' 'P' 'M' 'V' 'Z' 'I' 'Q' 'E' 'P' 'J' 'Z' 'R']\n",
      " ['G' 'R' 'N' 'Z' 'Y' 'Z' 'I' 'S' 'G' 'V' 'W' 'W' 'R' 'Z' 'A']\n",
      " ['K' 'B' 'K' 'I' 'K' 'B' 'T' 'H' 'V' 'V' 'N' 'O' 'I' 'J' 'R']\n",
      " ['L' 'Z' 'E' 'D' 'K' 'K' 'U' 'C' 'S' 'Z' 'L' 'R' 'V' 'K' 'R']\n",
      " ['D' 'Q' 'E' 'E' 'J' 'D' 'D' 'N' 'V' 'U' 'B' 'O' 'F' 'J' 'B']\n",
      " ['G' 'W' 'G' 'X' 'A' 'H' 'A' 'A' 'B' 'C' 'R' 'V' 'G' 'W' 'I']\n",
      " ['W' 'Z' 'R' 'A' 'H' 'F' 'N' 'G' 'O' 'R' 'P' 'A' 'B' 'P' 'Y']\n",
      " ['O' 'L' 'A' 'G' 'B' 'X' 'G' 'H' 'S' 'F' 'G' 'V' 'B' 'B' 'P']\n",
      " ['F' 'E' 'K' 'Q' 'W' 'N' 'J' 'I' 'O' 'D' 'R' 'S' 'T' 'I' 'P']\n",
      " ['V' 'K' 'S' 'D' 'O' 'W' 'K' 'Q' 'A' 'W' 'B' 'H' 'R' 'J' 'Y']\n",
      " ['V' 'C' 'G' 'M' 'X' 'Z' 'C' 'H' 'Y' 'B' 'Z' 'K' 'O' 'I' 'M']]\n",
      "Searching rows\n",
      "Searching columns\n",
      "Searching diagonally\n",
      "Santa -> ARUSHI\n",
      "-------- [DONE] - 1 --------\n",
      "\n"
     ]
    }
   ],
   "source": [
    "def findSanta(pageNumber):\n",
    "\tcharImageMatrix = generateCharacterMatrix(pageNumber)\n",
    "\tprint(charImageMatrix)\n",
    "\trow, santa = searchByRows(charImageMatrix)\n",
    "\tif santa != \"\":\n",
    "\t\treturn santa\n",
    "\tcol, santa = searchByColumns(charImageMatrix)\n",
    "\tif santa != \"\":\n",
    "\t\treturn santa\n",
    "\tcol, row, santa = searchDiagonally(charImageMatrix)\n",
    "\tif santa != \"\":\n",
    "\t\treturn santa\n",
    "\tcol, row, santa = searchDiagonally(charImageMatrix[::-1])\n",
    "\treturn santa\n",
    "\n",
    "# 1 -> Jerry\n",
    "# 2 -> Vaishnavi\n",
    "# 3 -> Kashmeera\n",
    "# 4 -> Neel\n",
    "\n",
    "pageNumber = 1\n",
    "print(\"-------- [START] - {} --------\".format(pageNumber))\n",
    "print(\"Santa -> {}\".format(findSanta(pageNumber)))\n",
    "print(\"-------- [DONE] - {} --------\\n\".format(pageNumber))"
   ]
  }
 ],
 "metadata": {
  "kernelspec": {
   "display_name": "Python 3",
   "language": "python",
   "name": "python3"
  },
  "language_info": {
   "codemirror_mode": {
    "name": "ipython",
    "version": 3
   },
   "file_extension": ".py",
   "mimetype": "text/x-python",
   "name": "python",
   "nbconvert_exporter": "python",
   "pygments_lexer": "ipython3",
   "version": "3.10.8 (main, Oct 13 2022, 10:17:43) [Clang 14.0.0 (clang-1400.0.29.102)]"
  },
  "orig_nbformat": 4,
  "vscode": {
   "interpreter": {
    "hash": "aee8b7b246df8f9039afb4144a1f6fd8d2ca17a180786b69acc140d282b71a49"
   }
  }
 },
 "nbformat": 4,
 "nbformat_minor": 2
}
